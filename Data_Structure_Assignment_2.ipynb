{
  "nbformat": 4,
  "nbformat_minor": 0,
  "metadata": {
    "colab": {
      "provenance": []
    },
    "kernelspec": {
      "name": "python3",
      "display_name": "Python 3"
    },
    "language_info": {
      "name": "python"
    }
  },
  "cells": [
    {
      "cell_type": "markdown",
      "source": [
        "1. What are data structures, and why are they important?\n",
        "\n",
        "  Ans: Data structures are specialized formats for organizing, storing, and accessing collections of data. They provide efficient ways to manage information based on its characteristics and intended use. They act as containers that hold our data and determine how we can interact with it. Different containers are better suited for different types of items.\n",
        "\n",
        "2. Explain the difference between mutable and immutable data types in Python.\n",
        "\n",
        " Ans: Mutable objects can be changed after they are created. Some of the examples are list, dictionaries etc. When we modify a mutable object, the changes are made within the existing memory.\n",
        "\n",
        " Immutable objects cannot be changed after they are created. A new object is created instead. Some of the examples are tuples, strings. When we modify an immutable object, a new object is created in memory, and the original object remains unchanged.\n",
        "\n",
        "3. What are the main differences between list and tuples in python?\n",
        "\n",
        " Ans: The major difference between lists and tuples is that lists are mutable i.e, we can change the within a list after it’s created. This includes adding, removing or modifying elements. List is enclosed in square brackets []. Lists are versatile for storing and managing collections that might change.\n",
        "\n",
        " However tuples are immutable which means we cannot change its element once its created. It is enclosed in parantheses (). Tuples are generally faster than list due to immutablity and are provide a secure way to store data that shouldn’t be modified. It is useful for representing fixed datasets.\n",
        "\n",
        "4. Describe how dictionaries store data.\n",
        "\n",
        " Ans: Dictionaries in Python store data in a unique and efficient way. It is a collection of key-value pairs and then pass the dictionary a key to quickly retrieve its corresponding value. Dictionaries are written with curly brackets, and have keys and values. Specifically, you construct the dictionary by specifying one-way mappings from key-objects to value-objects. Each key must map to exactly one value, meaning that a key must be unique.\n",
        " When we create a dictionary, Python calculates a hash value for each key. This hash value is used to determine the location where the key-value pair will be stored in the dictionary’s internal structure.\n",
        "\n",
        "5. Why might you use a set instead of a lists in Python?\n",
        "\n",
        " Ans: We had choose set over a list in Python for the following reasons:\n",
        "Sets inherently do not allow duplicates. Suppose we have a list and we need to quicky remove duplicates, we can convert it to a set and then back to a list is an efficient way.\n",
        " Verifying if an element exists within a set is incredibly fats because sets use a data structure called a hash table.\n",
        "Set supports various mathematical set operations like combining elements from two sets.\n",
        "\n",
        "6. What is string in a python, and how is it different from a list?\n",
        "\n",
        " Ans:  In Python, a list is a collection of items that can be of any data type and can be modified (mutable). Lists are represented by square brackets and can contain multiple elements separated by commas. On the other hand, a string is a sequence of characters enclosed in single or double quotes. Strings are immutable, meaning their values cannot be changed once they are created.\n",
        " While both lists and strings can be accessed using indexing and slicing, lists provide more flexibility as they can be modified, appended, or extended, while strings cannot be altered after creation.\n",
        "Example of string: string – “Hello”\n",
        "Example of list: list - = [1,2,3,”Hello”, “true”]\n",
        "\n",
        "7. How do tuples ensure data integrity in Python?\n",
        "\n",
        " Ans: In Python, tuples ensure data integrity primarily through their immutability. This means that once a tuple is created, its elements cannot be modified, added, or removed. This prevents accidental or intentional changes to the data, ensuring that it remains consistent and reliable. Since tuples cannot be changed, there's no risk of inadvertently altering the data, which could lead to errors or inconsistencies. Immutability ensures that the data within a tuple remains the same throughout its lifecycle, making it suitable for representing fixed sets of values. Since tuples are immutable and hashable, they can be used as keys in dictionaries, allowing for efficient data retrieval based on multiple values.\n",
        "\n",
        "8.  What is a hash table and, how does it relate to dictionaries in Python?\n",
        "\n",
        " Ans: Hash tables are a type of data structure that uses a hash function to map keys to specific locations within an array. This allows for incredibly fast lookups, insertions, and deletions of key-value pairs.\n",
        " Python dictionaries are implemented using hash tables under the hood. The Keys in the dictionary are hashable–they are generated by a hash function which generates a unique result for each unique value supplied to the hash function. This is why they offer such efficient performance for common operations:\n",
        " Key-Value Pairs: Dictionaries store data as key-value pairs, perfectly aligning with the hash table's structure.\n",
        " Fast Lookups: When you use a key to access a value in a dictionary, Python's hash table implementation quickly calculates the hash code, locates the corresponding bucket, and retrieves the value.\n",
        " Efficient Operations: The average time complexity for most dictionary operations (insertion, deletion, lookup) is constant time.\n",
        "\n",
        "9. Can lists contain different data types in Python?\n",
        "\n",
        " Ans: Python lists can indeed hold elements of various data types within the same list. Eg: list = [ 1, ‘hello’, 3.45, True].\n",
        "\n",
        "10. Explain why strings are immutable in Python?\n",
        "\n",
        " Ans: Strings in Python are “immutable” which means they can not be changed after they are created. It is made immutable so that programmers cannot alter the contents of the object (even by mistake). This avoids unnecessary bugs. If strings weren't immutable, we couldn't reliably use them as keys in a dictionary, since their hash value might suddenly change. Immutability makes code more predictable and easier to debug, as we can be certain that the value of a string will not change unexpectedly. Immutable objects can be shared safely between threads without the need for additional synchronization mechanisms, as there is no risk of one thread modifying the object while another thread is using it.\n",
        "\n",
        "11. What advantages do dictionaries offer over lists for certain tasks?\n",
        "\n",
        " Ans: Particularly in Python, a dictionary offers a number of benefits over a list. Each entry in a dictionary consists of two components: the key and the value, which are kept in pairs. We may have additional options when it comes to data storage as a result.\n",
        "The main benefit would be the ability to retrieve saved values because dictionary searches are considerably easier. This might be a better solution if the information we're attempting to preserve can be linked to a specific name or item.\n",
        "Dictionaries enforce the uniqueness of keys, ensuring that each key-value pair is distinct. This can be helpful in scenarios where we need to maintain a unique association between data.\n",
        "Dictionary can of various immutable data types (strings, tuples) providing flexibility in how we can organize and access your data.\n",
        "Storing the ages of school children is one example. The name and age could be saved as a value and key pair. This would enable us to retrieve the age of a certain student by sorting the dictionary for them but once this list becomes long enough searching this list for a specific student will get time consuming.\n",
        "\n",
        "12. Describe a scenario where using a tuple would be preferable over list.\n",
        "\n",
        " Ans: Scenario: Suppose I am developing a system for storing and retrieving user credentials (username, password). In this case a Tuple is Preferable because of the following reasons:\n",
        "* Immutability: User credentials should not be easily modified once set. Tuples, being immutable, provide this security.\n",
        "\n",
        "* Data Integrity: By preventing accidental or malicious changes to the tuple, we ensure the integrity of the stored credentials.\n",
        "\n",
        "* Hashing: If we hash the tuple the immutability guarantees that the hash remains consistent with the original credentials.\n",
        "\n",
        "\n",
        "     Example:\n",
        "     user_credentials = (\"john_doe\", \"secret_password\")\n",
        "\n",
        "    In this scenario, using a tuple for user_credentials offers a layer of protection and ensures that the sensitive information remains unchanged.\n",
        "\n",
        "13. How do sets handle duplicate values in Python?\n",
        "\n",
        "  Ans: In Python, the set data structure automatically handles duplicate values by not allowing them. When we create a set, any duplicate values are automatically removed.If we try to add a duplicate value to a set, it will not raise an error, but the set will retain only one instance of the value.\n",
        "\n",
        "14. How does the “in” keyword work differently for lists and dictionaries?\n",
        "\n",
        "   Ans. The 'in' keyword in Python is used to check membership in a collection. However, how it operates differs depending on the type of collection, such as lists and dictionaries. In lists the 'in' keyword checks if the specified value is present as an element in the list. Where as, in Dictionaries the 'in' keyword checks for the presence of a key and the not the value in the dictionary.\n",
        "\n",
        "15. Can you modify the elements of a tuple? Explain why or why not?\n",
        "\n",
        "  Ans: Tuples are immutable which means that the elements of a tuple cannot be modified once created. They are designed to be immutable  to ensure data integrity when dealing with collections of items that should not change, such as coordinates, configurations, or fixed groupings of data. Immutability allows tuples to be optimized for memory usage.\n",
        "\n",
        "16. What is a nested dictionary, and give an example of its use case?\n",
        "\n",
        " Ans: A nested dictionary is a dictionary that contains other dictionaries as its values. It allows for hierarchical or structured data representation. Nested dictionaries are often used to store complex datasets, where each key corresponds to another dictionary representing additional layers of related information.\n",
        "\n",
        " example: Suppose we want to store data about students, including their grades and personal details\n",
        "\n",
        "    students = {\n",
        "    \"student_1\": {\n",
        "        \"Name\": \"Raj\",\n",
        "        \"Age\": 11\n",
        "        \"Class\": 5,\n",
        "        \"Grades\": {\n",
        "            \"math\": 88,\n",
        "            \"science\": 92,\n",
        "            \"english\": 85\n",
        "        }\n",
        "    },\n",
        "    \"student_2\": {\n",
        "        \"Name\": \"Binoy\",\n",
        "        \"Age\": 10\n",
        "        \"Class\": 16,\n",
        "        \"Grades\": {\n",
        "            \"math\": 78,\n",
        "            \"science\": 81,\n",
        "            \"english\": 89\n",
        "        }\n",
        "    }\n",
        "  }\n",
        "\n",
        "\n",
        "17. Describe the time complexity of accessing elements in a dictionary?\n",
        "\n",
        " Ans:  The time complexity of accessing elements in a dictionary depends on the underlying data structure and the operation being performed. In most modern programming languages, dictionaries are implemented as hash tables, which provide efficient access to elements. Although hash tables use a hash function to compute an index for the key. The key is then mapped directly to a specific \"bucket\" where its value is stored. This allows for constant-time access, assuming there are no significant collisions. But in some cases,  if the hash function results in many collisions (e.g., all keys are hashed to the same bucket), all the keys in that bucket must be checked linearly to find the desired one which takes a compararitively higher amount of time.\n",
        "\n",
        "18. In what situations are lists preferred over dictionaries?\n",
        "\n",
        " Ans: Lists are preferred over dictionaries when you need ordered data, index-based access, or homogeneous collections (like numbers or strings). They are ideal for situations where you frequently append elements, need to iterate over data without key-value pairs, or require memory efficiency. Lists also support slicing to easily extract subsets of data. In contrast, dictionaries are better for key-value mappings and when associating data with unique identifiers.\n",
        "\n",
        "19. Why are dictionaries considered unordered, and how does that affect data retrieval?\n",
        "\n",
        " Ans: Dictionaries are considered unordered because their elements are stored based on the hash of their keys rather than the order in which they are added. This structure ensures efficient key-based lookups.\n",
        "\n",
        " The unordered nature affects iteration, as the sequence of elements may not follow logical patterns like sorted order. However, it does not impact the efficiency of retrieving data by key, which remains consistently fast due to the hash table mechanism. Dictionaries are designed for quick key-value association and access, rather than maintaining sequence.\n",
        "\n",
        "20. Explain the difference between a list and a dictionary in terms of data retrieval.\n",
        "\n",
        "  Ans: Lists and dictionaries differ primarily in how data is accessed and retrieved:\n",
        "\n",
        " Lists: Data is accessed using indexes that represent their position in the list. Retrieval by index is O(1), but searching for a specific value requires scanning the entire list, making it O(n). Lists are ideal for ordered collections where the sequence of elements matters.\n",
        "\n",
        " Dictionaries: Data is accessed using keys, which are unique identifiers for their associated values. This allows fast lookups with an average time complexity of O(1), thanks to the underlying hash table implementation. Dictionaries are best suited for scenarios where data needs to be mapped to unique keys and retrieved efficiently."
      ],
      "metadata": {
        "id": "EcjzlcDXTRVF"
      }
    },
    {
      "cell_type": "code",
      "source": [
        "# Write a code to create a string with your name and print it.\n",
        "my_name = \"Pooja Raj\"\n",
        "print(my_name)"
      ],
      "metadata": {
        "id": "NFc5I0DuDEQd"
      },
      "execution_count": null,
      "outputs": []
    },
    {
      "cell_type": "code",
      "source": [
        "#  Write a code to find the length of the string \"Hello World\".\n",
        "a= \"Hello World\"\n",
        "length= len(a)\n",
        "print(\"Length of a=\", length)"
      ],
      "metadata": {
        "id": "_vkVsL8qDj_w"
      },
      "execution_count": null,
      "outputs": []
    },
    {
      "cell_type": "code",
      "source": [
        "# Write a code to slice the first 3 characters from the string \"Python Programming\".\n",
        "string = \"Python Programming\"\n",
        "sliced_string = string[:3]\n",
        "print( \"First 3 character=\", sliced_string)"
      ],
      "metadata": {
        "id": "2OkiS-P9ENqr"
      },
      "execution_count": null,
      "outputs": []
    },
    {
      "cell_type": "code",
      "source": [
        "# Write a code to convert the string \"hello\" to uppercase\n",
        "word = \"hello\"\n",
        "uppercase_string = word.upper()\n",
        "print(\"The string in uppercase is:\", uppercase_string)"
      ],
      "metadata": {
        "id": "o1RnrHVFF18N"
      },
      "execution_count": null,
      "outputs": []
    },
    {
      "cell_type": "code",
      "source": [
        "#Write a code to replace the word \"apple\" with \"orange\" in the string \"I like apple\"\n",
        "sentence = \"I like apple\"\n",
        "modified_sentence = sentence.replace(\"apple\", \"orange\")\n",
        "print(\"The modified sentence is:\", modified_sentence)"
      ],
      "metadata": {
        "id": "BMHr5s4eF9WP"
      },
      "execution_count": null,
      "outputs": []
    },
    {
      "cell_type": "code",
      "source": [
        "# Write a code to create a list with numbers 1 to 5 and print it.\n",
        "list = [1,2,3,4,5]\n",
        "print(list)"
      ],
      "metadata": {
        "id": "bORrEb9NlSMd"
      },
      "execution_count": null,
      "outputs": []
    },
    {
      "cell_type": "code",
      "source": [
        "# Write a code to append the number 10 to the list [1, 2, 3, 4].\n",
        "list = [1,2,3,4]\n",
        "list.append(10)\n",
        "print(list)"
      ],
      "metadata": {
        "id": "T7mmFYA9mqz7"
      },
      "execution_count": null,
      "outputs": []
    },
    {
      "cell_type": "code",
      "source": [
        "# Write a code to remove the number 3 from the list [1, 2, 3, 4, 5]\n",
        "list = [1,2,3,4,5]\n",
        "list.remove(3)\n",
        "print(list)"
      ],
      "metadata": {
        "id": "nAHBG_candGs"
      },
      "execution_count": null,
      "outputs": []
    },
    {
      "cell_type": "code",
      "source": [
        "# Write a code to access the second element in the list ['a', 'b', 'c', 'd']\n",
        "list = ['a','b','c','d']\n",
        "list[1]"
      ],
      "metadata": {
        "id": "p8a5QdEMp4Fd"
      },
      "execution_count": null,
      "outputs": []
    },
    {
      "cell_type": "code",
      "source": [
        "# Write a code to reverse the list [10, 20, 30, 40, 50].\n",
        "numbers = [10, 20, 30, 40, 50]\n",
        "numbers.reverse()\n",
        "print(numbers)"
      ],
      "metadata": {
        "id": "OQlQ2MT6q2zN"
      },
      "execution_count": null,
      "outputs": []
    },
    {
      "cell_type": "code",
      "source": [
        "#  Write a code to create a tuple with the elements 10, 20, 30 and print it.\n",
        "my_tuple= (10, 20, 30)\n",
        "print(\"tuple= \", my_tuple)"
      ],
      "metadata": {
        "id": "WHl65TTUsKQl"
      },
      "execution_count": null,
      "outputs": []
    },
    {
      "cell_type": "code",
      "source": [
        "# Write a code to access the first element of the tuple ('apple', 'banana', 'cherry')\n",
        "Tuple= ('apple', 'banana', 'cherry')\n",
        "Tuple[0]\n",
        "print(\"first element is\",Tuple[0])"
      ],
      "metadata": {
        "id": "j0LdpP6GsyP0"
      },
      "execution_count": null,
      "outputs": []
    },
    {
      "cell_type": "code",
      "source": [
        "#  Write a code to count how many times the number 2 appears in the tuple (1, 2, 3, 2, 4, 2)\n",
        "given_tuple = (1, 2, 3, 2, 4, 2)\n",
        "number_of_2s = given_tuple.count(2)\n",
        "print (\"number of 2s in given tuple=\",number_of_2s)"
      ],
      "metadata": {
        "id": "bpIDEhh7u1YW"
      },
      "execution_count": null,
      "outputs": []
    },
    {
      "cell_type": "code",
      "source": [
        "# Write a code to find the index of the element \"cat\" in the tuple ('dog', 'cat', 'rabbit').\n",
        "list = ('dog', 'cat', 'rabbit')\n",
        "index_of_cat = list.index('cat')\n",
        "print(\"Index of 'cat' in the list=\", index_of_cat)"
      ],
      "metadata": {
        "id": "i3rWZ50lwBvf"
      },
      "execution_count": null,
      "outputs": []
    },
    {
      "cell_type": "code",
      "source": [
        "#  Write a code to check if the element \"banana\" is in the tuple ('apple', 'orange', 'banana').\n",
        "fruits_list = ('apple', 'orange', 'banana')\n",
        "if \"banana\" in fruits_list:\n",
        "  print(\"Banana is present in list\")\n",
        "else:\n",
        "  print(\"Banana is not present in list\")"
      ],
      "metadata": {
        "id": "jltvzprnxKlC"
      },
      "execution_count": null,
      "outputs": []
    },
    {
      "cell_type": "code",
      "source": [
        "# Write a code to create a set with the elements 1, 2, 3, 4, 5 and print it.\n",
        "numbers = {1, 2, 3, 4, 5}\n",
        "print(\"The set is:\", numbers)"
      ],
      "metadata": {
        "id": "s4t1lKcVx63g"
      },
      "execution_count": null,
      "outputs": []
    },
    {
      "cell_type": "code",
      "source": [
        "#  Write a code to add the element 6 to the set {1, 2, 3, 4}\n",
        "set = {1,2, 3, 4}\n",
        "set.add(6)\n",
        "print(\"updated set:\", set)"
      ],
      "metadata": {
        "id": "txgLDNZTykFC"
      },
      "execution_count": null,
      "outputs": []
    },
    {
      "cell_type": "code",
      "source": [
        "# Write a code to create a tuple with the elements 10, 20, 30 and print it\n",
        "my_tuple= (10, 20, 30)\n",
        "print(\"tuple= \", my_tuple)"
      ],
      "metadata": {
        "id": "DvEmWiA-zQ3v"
      },
      "execution_count": null,
      "outputs": []
    },
    {
      "cell_type": "code",
      "source": [
        "#  Write a code to access the first element of the tuple ('apple', 'banana', 'cherry').\n",
        "Tuple= ('apple', 'banana', 'cherry')\n",
        "Tuple[0]\n",
        "print(\"first element is\",Tuple[0])\n"
      ],
      "metadata": {
        "id": "zaFRvzgNze8Z"
      },
      "execution_count": null,
      "outputs": []
    },
    {
      "cell_type": "code",
      "source": [
        "#  Write a code to count how many times the number 2 appears in the tuple (1, 2, 3, 2, 4, 2).\n",
        "given_tuple = (1, 2, 3, 2, 4, 2)\n",
        "number_of_2s = given_tuple.count(2)\n",
        "print (\"number of 2s in given tuple=\",number_of_2s)"
      ],
      "metadata": {
        "id": "EdsEsRIbzsQq"
      },
      "execution_count": null,
      "outputs": []
    },
    {
      "cell_type": "code",
      "source": [
        "# Write a code to find the index of the element \"cat\" in the tuple ('dog', 'cat', 'rabbit')\n",
        "list = ('dog', 'cat', 'rabbit')\n",
        "index_of_cat = list.index('cat')\n",
        "print(\"Index of 'cat' in the list=\", index_of_cat)"
      ],
      "metadata": {
        "id": "1gq0OURZz24N"
      },
      "execution_count": null,
      "outputs": []
    },
    {
      "cell_type": "code",
      "source": [
        "# Write a code to check if the element \"banana\" is in the tuple ('apple', 'orange', 'banana').\n",
        "fruits_list = ('apple', 'orange', 'banana')\n",
        "if \"banana\" in fruits_list:\n",
        "  print(\"Banana is present in list\")\n",
        "else:\n",
        "  print(\"Banana is not present in list\")"
      ],
      "metadata": {
        "id": "VrKNijZX0DSN"
      },
      "execution_count": null,
      "outputs": []
    },
    {
      "cell_type": "code",
      "source": [
        "# Write a code to create a set with the elements 1, 2, 3, 4, 5 and print it.\n",
        "numbers = {1, 2, 3, 4, 5}\n",
        "print(\"The set is:\", numbers)"
      ],
      "metadata": {
        "id": "xlZKik_i0ONz"
      },
      "execution_count": null,
      "outputs": []
    },
    {
      "cell_type": "code",
      "source": [
        "# Write a code to add the element 6 to the set {1, 2, 3, 4}.\n",
        "set = {1,2, 3, 4}\n",
        "set.add(6)\n",
        "print(\"updated set:\", set)"
      ],
      "metadata": {
        "id": "7NMlKdH-0WAB"
      },
      "execution_count": null,
      "outputs": []
    },
    {
      "cell_type": "markdown",
      "source": [],
      "metadata": {
        "id": "uxcB2U_I2kB3"
      }
    }
  ]
}